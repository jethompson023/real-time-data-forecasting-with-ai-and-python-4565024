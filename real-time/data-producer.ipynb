{
 "cells": [
  {
   "cell_type": "markdown",
   "metadata": {},
   "source": [
    "# Produce Streaming Data"
   ]
  },
  {
   "cell_type": "markdown",
   "metadata": {},
   "source": [
    "Before you run the following script, launch the Docker container with this command from the Terminal:\n",
    "\n",
    "`cd real-time`\n",
    "\n",
    "`docker-compose up -d`"
   ]
  },
  {
   "cell_type": "code",
   "execution_count": 3,
   "metadata": {},
   "outputs": [
    {
     "name": "stderr",
     "output_type": "stream",
     "text": [
      "[2024-10-07 13:19:21,372] [INFO] [quixstreams] : Topics required for this application: \"incoming_data\"\n",
      "[2024-10-07 13:19:21,405] [INFO] [quixstreams] : Creating a new topic \"incoming_data\" with config: \"{'num_partitions': 1, 'replication_factor': 1, 'extra_config': {}}\"\n"
     ]
    },
    {
     "name": "stdout",
     "output_type": "stream",
     "text": [
      "Writing CSV data to the \"incoming_data\" topic ...\n"
     ]
    },
    {
     "name": "stderr",
     "output_type": "stream",
     "text": [
      "[2024-10-07 13:19:22,409] [INFO] [quixstreams] : Topic \"incoming_data\" has been created\n",
      "[2024-10-07 13:19:22,410] [INFO] [quixstreams] : Validating Kafka topics exist and are configured correctly...\n",
      "[2024-10-07 13:19:22,436] [INFO] [quixstreams] : Kafka topics validation complete\n",
      "[2024-10-07 13:23:14,613] [INFO] [quixstreams] : FAIL [rdkafka#producer-10] [thrd:localhost:9092/bootstrap]: localhost:9092/1: Disconnected (after 231514ms in state UP)\n",
      "[2024-10-07 13:23:14,615] [INFO] [quixstreams] : FAIL [rdkafka#producer-10] [thrd:localhost:9092/bootstrap]: localhost:9092/1: Disconnected while requesting ApiVersion: might be caused by incorrect security.protocol configuration (connecting to a SSL listener?) or broker version is < 0.10 (see api.version.request) (after 0ms in state APIVERSION_QUERY)\n",
      "[2024-10-07 13:23:14,616] [INFO] [quixstreams] : FAIL [rdkafka#producer-10] [thrd:localhost:9092/bootstrap]: localhost:9092/1: Disconnected while requesting ApiVersion: might be caused by incorrect security.protocol configuration (connecting to a SSL listener?) or broker version is < 0.10 (see api.version.request) (after 0ms in state APIVERSION_QUERY, 1 identical error(s) suppressed)\n",
      "[2024-10-07 13:23:14,617] [ERROR] [quixstreams] : Kafka producer error: localhost:9092/1: Disconnected (after 231514ms in state UP) code=\"-195\"\n",
      "[2024-10-07 13:23:14,618] [ERROR] [quixstreams] : Kafka producer error: localhost:9092/1: Disconnected while requesting ApiVersion: might be caused by incorrect security.protocol configuration (connecting to a SSL listener?) or broker version is < 0.10 (see api.version.request) (after 0ms in state APIVERSION_QUERY) code=\"-195\"\n",
      "[2024-10-07 13:23:14,620] [ERROR] [quixstreams] : Kafka producer error: localhost:9092/1: Disconnected while requesting ApiVersion: might be caused by incorrect security.protocol configuration (connecting to a SSL listener?) or broker version is < 0.10 (see api.version.request) (after 0ms in state APIVERSION_QUERY, 1 identical error(s) suppressed) code=\"-195\"\n",
      "[2024-10-07 13:23:19,623] [ERROR] [quixstreams] : FAIL [rdkafka#producer-10] [thrd:localhost:9092/bootstrap]: localhost:9092/1: Connect to ipv4#127.0.0.1:9092 failed: Connection refused (after 0ms in state CONNECT)\n",
      "[2024-10-07 13:23:19,624] [ERROR] [quixstreams] : Kafka producer error: localhost:9092/1: Connect to ipv4#127.0.0.1:9092 failed: Connection refused (after 0ms in state CONNECT) code=\"-195\"\n",
      "[2024-10-07 13:23:33,059] [ERROR] [quixstreams] : FAIL [rdkafka#producer-10] [thrd:localhost:9092/bootstrap]: localhost:9092/1: Connect to ipv6#[::1]:9092 failed: Connection refused (after 0ms in state CONNECT)\n",
      "[2024-10-07 13:23:33,060] [ERROR] [quixstreams] : Kafka producer error: localhost:9092/1: Connect to ipv6#[::1]:9092 failed: Connection refused (after 0ms in state CONNECT) code=\"-195\"\n"
     ]
    },
    {
     "ename": "KeyboardInterrupt",
     "evalue": "",
     "output_type": "error",
     "traceback": [
      "\u001b[0;31m---------------------------------------------------------------------------\u001b[0m",
      "\u001b[0;31mKeyboardInterrupt\u001b[0m                         Traceback (most recent call last)",
      "Cell \u001b[0;32mIn[3], line 78\u001b[0m\n\u001b[1;32m     72\u001b[0m         producer\u001b[38;5;241m.\u001b[39mproduce(\n\u001b[1;32m     73\u001b[0m             topic\u001b[38;5;241m=\u001b[39mcombined_data_topic\u001b[38;5;241m.\u001b[39mname,\n\u001b[1;32m     74\u001b[0m             key\u001b[38;5;241m=\u001b[39m\u001b[38;5;124m\"\u001b[39m\u001b[38;5;124mtemperature-csv\u001b[39m\u001b[38;5;124m\"\u001b[39m,\n\u001b[1;32m     75\u001b[0m             value\u001b[38;5;241m=\u001b[39mjson\u001b[38;5;241m.\u001b[39mdumps(temperature_message),\n\u001b[1;32m     76\u001b[0m         )\n\u001b[0;32m---> 78\u001b[0m         \u001b[43mtime\u001b[49m\u001b[38;5;241;43m.\u001b[39;49m\u001b[43msleep\u001b[49m\u001b[43m(\u001b[49m\u001b[38;5;241;43m3\u001b[39;49m\u001b[43m)\u001b[49m  \u001b[38;5;66;03m# Simulate real-time flow with a sleep for temperature data\u001b[39;00m\n\u001b[1;32m     80\u001b[0m \u001b[38;5;66;03m# Part 3: Shutting Down ---\u001b[39;00m\n\u001b[1;32m     81\u001b[0m \u001b[38;5;66;03m# Ensure all messages are sent before closing\u001b[39;00m\n",
      "\u001b[0;31mKeyboardInterrupt\u001b[0m: ",
      "\nDuring handling of the above exception, another exception occurred:\n",
      "\u001b[0;31mKeyboardInterrupt\u001b[0m                         Traceback (most recent call last)",
      "Cell \u001b[0;32mIn[3], line 39\u001b[0m\n\u001b[1;32m     36\u001b[0m temperature_data \u001b[38;5;241m=\u001b[39m load_csv(TEMPERATURE_DATA_FILE)\n\u001b[1;32m     38\u001b[0m \u001b[38;5;28mprint\u001b[39m(\u001b[38;5;124mf\u001b[39m\u001b[38;5;124m'\u001b[39m\u001b[38;5;124mWriting CSV data to the \u001b[39m\u001b[38;5;124m\"\u001b[39m\u001b[38;5;132;01m{\u001b[39;00mcombined_data_topic\u001b[38;5;241m.\u001b[39mname\u001b[38;5;132;01m}\u001b[39;00m\u001b[38;5;124m\"\u001b[39m\u001b[38;5;124m topic ...\u001b[39m\u001b[38;5;124m'\u001b[39m)\n\u001b[0;32m---> 39\u001b[0m \u001b[38;5;28;01mwith\u001b[39;00m app\u001b[38;5;241m.\u001b[39mget_producer() \u001b[38;5;28;01mas\u001b[39;00m producer:\n\u001b[1;32m     40\u001b[0m     \u001b[38;5;66;03m# Determine the length of the shorter dataset to avoid index errors\u001b[39;00m\n\u001b[1;32m     41\u001b[0m     min_length \u001b[38;5;241m=\u001b[39m \u001b[38;5;28mmin\u001b[39m(\u001b[38;5;28mlen\u001b[39m(energy_data), \u001b[38;5;28mlen\u001b[39m(temperature_data))\n\u001b[1;32m     43\u001b[0m     \u001b[38;5;28;01mfor\u001b[39;00m i \u001b[38;5;129;01min\u001b[39;00m \u001b[38;5;28mrange\u001b[39m(min_length):\n\u001b[1;32m     44\u001b[0m         \u001b[38;5;66;03m# Access the current row from energy data\u001b[39;00m\n",
      "File \u001b[0;32m~/.local/lib/python3.10/site-packages/quixstreams/kafka/producer.py:174\u001b[0m, in \u001b[0;36mProducer.__exit__\u001b[0;34m(self, exc_type, exc_val, exc_tb)\u001b[0m\n\u001b[1;32m    172\u001b[0m \u001b[38;5;28;01mdef\u001b[39;00m \u001b[38;5;21m__exit__\u001b[39m(\u001b[38;5;28mself\u001b[39m, exc_type, exc_val, exc_tb):\n\u001b[1;32m    173\u001b[0m     logger\u001b[38;5;241m.\u001b[39mdebug(\u001b[38;5;124m\"\u001b[39m\u001b[38;5;124mFlushing kafka producer\u001b[39m\u001b[38;5;124m\"\u001b[39m)\n\u001b[0;32m--> 174\u001b[0m     \u001b[38;5;28;43mself\u001b[39;49m\u001b[38;5;241;43m.\u001b[39;49m\u001b[43mflush\u001b[49m\u001b[43m(\u001b[49m\u001b[43m)\u001b[49m\n\u001b[1;32m    175\u001b[0m     logger\u001b[38;5;241m.\u001b[39mdebug(\u001b[38;5;124m\"\u001b[39m\u001b[38;5;124mKafka producer flushed\u001b[39m\u001b[38;5;124m\"\u001b[39m)\n",
      "File \u001b[0;32m~/.local/lib/python3.10/site-packages/quixstreams/kafka/producer.py:156\u001b[0m, in \u001b[0;36mProducer.flush\u001b[0;34m(self, timeout)\u001b[0m\n\u001b[1;32m    147\u001b[0m \u001b[38;5;28;01mdef\u001b[39;00m \u001b[38;5;21mflush\u001b[39m(\u001b[38;5;28mself\u001b[39m, timeout: Optional[\u001b[38;5;28mfloat\u001b[39m] \u001b[38;5;241m=\u001b[39m \u001b[38;5;28;01mNone\u001b[39;00m) \u001b[38;5;241m-\u001b[39m\u001b[38;5;241m>\u001b[39m \u001b[38;5;28mint\u001b[39m:\n\u001b[1;32m    148\u001b[0m \u001b[38;5;250m    \u001b[39m\u001b[38;5;124;03m\"\"\"\u001b[39;00m\n\u001b[1;32m    149\u001b[0m \u001b[38;5;124;03m    Wait for all messages in the Producer queue to be delivered.\u001b[39;00m\n\u001b[1;32m    150\u001b[0m \n\u001b[0;32m   (...)\u001b[0m\n\u001b[1;32m    154\u001b[0m \u001b[38;5;124;03m    :return: number of messages remaining to flush\u001b[39;00m\n\u001b[1;32m    155\u001b[0m \u001b[38;5;124;03m    \"\"\"\u001b[39;00m\n\u001b[0;32m--> 156\u001b[0m     \u001b[38;5;28;01mreturn\u001b[39;00m \u001b[38;5;28;43mself\u001b[39;49m\u001b[38;5;241;43m.\u001b[39;49m\u001b[43m_producer\u001b[49m\u001b[38;5;241;43m.\u001b[39;49m\u001b[43mflush\u001b[49m\u001b[43m(\u001b[49m\n\u001b[1;32m    157\u001b[0m \u001b[43m        \u001b[49m\u001b[43mtimeout\u001b[49m\u001b[38;5;241;43m=\u001b[39;49m\u001b[43mtimeout\u001b[49m\u001b[43m \u001b[49m\u001b[38;5;28;43;01mif\u001b[39;49;00m\u001b[43m \u001b[49m\u001b[43mtimeout\u001b[49m\u001b[43m \u001b[49m\u001b[38;5;129;43;01mis\u001b[39;49;00m\u001b[43m \u001b[49m\u001b[38;5;129;43;01mnot\u001b[39;49;00m\u001b[43m \u001b[49m\u001b[38;5;28;43;01mNone\u001b[39;49;00m\u001b[43m \u001b[49m\u001b[38;5;28;43;01melse\u001b[39;49;00m\u001b[43m \u001b[49m\u001b[38;5;28;43mself\u001b[39;49m\u001b[38;5;241;43m.\u001b[39;49m\u001b[43m_flush_timeout\u001b[49m\n\u001b[1;32m    158\u001b[0m \u001b[43m    \u001b[49m\u001b[43m)\u001b[49m\n",
      "File \u001b[0;32m/usr/local/lib/python3.10/logging/__init__.py:1532\u001b[0m, in \u001b[0;36mLogger.log\u001b[0;34m(self, level, msg, *args, **kwargs)\u001b[0m\n\u001b[1;32m   1527\u001b[0m \u001b[38;5;250m    \u001b[39m\u001b[38;5;124;03m\"\"\"\u001b[39;00m\n\u001b[1;32m   1528\u001b[0m \u001b[38;5;124;03m    Don't use this method, use critical() instead.\u001b[39;00m\n\u001b[1;32m   1529\u001b[0m \u001b[38;5;124;03m    \"\"\"\u001b[39;00m\n\u001b[1;32m   1530\u001b[0m     \u001b[38;5;28mself\u001b[39m\u001b[38;5;241m.\u001b[39mcritical(msg, \u001b[38;5;241m*\u001b[39margs, \u001b[38;5;241m*\u001b[39m\u001b[38;5;241m*\u001b[39mkwargs)\n\u001b[0;32m-> 1532\u001b[0m \u001b[38;5;28;01mdef\u001b[39;00m \u001b[38;5;21mlog\u001b[39m(\u001b[38;5;28mself\u001b[39m, level, msg, \u001b[38;5;241m*\u001b[39margs, \u001b[38;5;241m*\u001b[39m\u001b[38;5;241m*\u001b[39mkwargs):\n\u001b[1;32m   1533\u001b[0m \u001b[38;5;250m    \u001b[39m\u001b[38;5;124;03m\"\"\"\u001b[39;00m\n\u001b[1;32m   1534\u001b[0m \u001b[38;5;124;03m    Log 'msg % args' with the integer severity 'level'.\u001b[39;00m\n\u001b[1;32m   1535\u001b[0m \n\u001b[0;32m   (...)\u001b[0m\n\u001b[1;32m   1539\u001b[0m \u001b[38;5;124;03m    logger.log(level, \"We have a %s\", \"mysterious problem\", exc_info=1)\u001b[39;00m\n\u001b[1;32m   1540\u001b[0m \u001b[38;5;124;03m    \"\"\"\u001b[39;00m\n\u001b[1;32m   1541\u001b[0m     \u001b[38;5;28;01mif\u001b[39;00m \u001b[38;5;129;01mnot\u001b[39;00m \u001b[38;5;28misinstance\u001b[39m(level, \u001b[38;5;28mint\u001b[39m):\n",
      "\u001b[0;31mKeyboardInterrupt\u001b[0m: "
     ]
    }
   ],
   "source": [
    "# Part 1: Application Setup --\n",
    "from quixstreams import Application\n",
    "import csv\n",
    "import json\n",
    "import time\n",
    "\n",
    "# Create an Application - the main configuration entry point\n",
    "app = Application(broker_address=\"localhost:9092\", consumer_group=\"demand_forecasting\")\n",
    "\n",
    "# Define a single topic for both types of data\n",
    "combined_data_topic = app.topic(name=\"incoming_data\", value_serializer=\"json\")\n",
    "\n",
    "\n",
    "# Part 2: Simulating Streaming Data --\n",
    "\n",
    "# Paths to the CSV files with data\n",
    "ENERGY_DATA_FILE = \"data/energy_data.csv\"\n",
    "TEMPERATURE_DATA_FILE = \"data/weather_data.csv\"\n",
    "\n",
    "def load_csv(path: str):\n",
    "    rows = []\n",
    "    with open(path, \"r\") as file:\n",
    "        reader = csv.DictReader(file)\n",
    "        for row in reader:\n",
    "            # Convert all string fields that should be numeric\n",
    "            for key, value in row.items():\n",
    "                try:\n",
    "                    row[key] = float(value)\n",
    "                except ValueError:\n",
    "                    pass\n",
    "            rows.append(row)\n",
    "    return rows\n",
    "\n",
    "# Load data from the CSV files\n",
    "energy_data = load_csv(ENERGY_DATA_FILE)\n",
    "temperature_data = load_csv(TEMPERATURE_DATA_FILE)\n",
    "\n",
    "print(f'Writing CSV data to the \"{combined_data_topic.name}\" topic ...')\n",
    "with app.get_producer() as producer:\n",
    "    # Determine the length of the shorter dataset to avoid index errors\n",
    "    min_length = min(len(energy_data), len(temperature_data))\n",
    "    \n",
    "    for i in range(min_length):\n",
    "        # Access the current row from energy data\n",
    "        energy = energy_data[i]\n",
    "        # Prepare a message for energy data\n",
    "        energy_message = {\n",
    "            \"Period\": energy['period'],\n",
    "            \"Type\": \"energy\",\n",
    "            \"Value\": energy['value']\n",
    "        }\n",
    "        \n",
    "        # Send the energy data message to the combined topic\n",
    "        producer.produce(\n",
    "            topic=combined_data_topic.name,\n",
    "            key=\"energy-csv\",\n",
    "            value=json.dumps(energy_message),\n",
    "        )\n",
    "        \n",
    "        time.sleep(2) # Simulate real-time flow with a sleep for energy data\n",
    "        \n",
    "        # Access the current row from temperature data\n",
    "        temp = temperature_data[i]\n",
    "        # Prepare a message for temperature data\n",
    "        temperature_message = {\n",
    "            \"Period\": temp['period'],\n",
    "            \"Type\": \"temperature\",\n",
    "            \"Value\": temp['temperature']\n",
    "        }\n",
    "        \n",
    "        # Send the temperature data message to the same combined topic\n",
    "        producer.produce(\n",
    "            topic=combined_data_topic.name,\n",
    "            key=\"temperature-csv\",\n",
    "            value=json.dumps(temperature_message),\n",
    "        )\n",
    "        \n",
    "        time.sleep(3)  # Simulate real-time flow with a sleep for temperature data\n",
    "\n",
    "# Part 3: Shutting Down ---\n",
    "# Ensure all messages are sent before closing\n",
    "producer.flush()"
   ]
  }
 ],
 "metadata": {
  "kernelspec": {
   "display_name": "Python 3",
   "language": "python",
   "name": "python3"
  },
  "language_info": {
   "codemirror_mode": {
    "name": "ipython",
    "version": 3
   },
   "file_extension": ".py",
   "mimetype": "text/x-python",
   "name": "python",
   "nbconvert_exporter": "python",
   "pygments_lexer": "ipython3",
   "version": "3.10.12"
  }
 },
 "nbformat": 4,
 "nbformat_minor": 2
}
